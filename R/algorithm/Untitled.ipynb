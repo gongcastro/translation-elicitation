{
 "cells": [
  {
   "cell_type": "code",
   "execution_count": null,
   "metadata": {},
   "outputs": [],
   "source": []
  },
  {
   "cell_type": "code",
   "execution_count": null,
   "metadata": {},
   "outputs": [],
   "source": [
    "# import pandas as pd # pandas package for importing files (e.g. from Excel)\n",
    "import numpy as np\n",
    "import difflib # package for SequenceMatcher\n",
    "from IPython.display import Markdown, display # Use Markdown\n",
    "\n",
    "\n",
    "fnameW      = 'TranElicit_word_lists.xlsx'\n",
    "wordsheet  = 'English-Spanish.Task'\n",
    "\n",
    "wordlist = pd.read_excel(fnameW, sheet_name=wordsheet, index_col='Index')\n",
    "\n",
    "fnameP      = 'Phon_list.xlsx'\n",
    "phonesheet = 'PhoneCoding.broad' # collapses phoneme features into broader categories\n",
    "\n",
    "# read as appropriate\n",
    "phncodes = pd.read_excel(fnameP, sheet_name=phonesheet, index_col='IPA')\n",
    "\n",
    "print(phoncodes)\n"
   ]
  },
  {
   "cell_type": "code",
   "execution_count": null,
   "metadata": {
    "collapsed": true
   },
   "outputs": [],
   "source": [
    "    \n",
    "for wrd in wordlist.index:\n",
    "    wrd1  = wordlist.loc[wrd]['Phon1'] # IPA or SAMPA transcription of L1 word\n",
    "    wrd2  = wordlist.loc[wrd]['Phon2']\n",
    "    ort1  = wordlist.loc[wrd]['Word1'] # orthographic form of L1 word\n",
    "    ort2  = wordlist.loc[wrd]['Word2']  \n",
    "    \n",
    "    \n",
    "    # Removes non-informative elements (spaces, long vowel marker, phoneme separator, stress markers)\n",
    "    for r in ((\" \", \"\"), (\":\", \"\"), (\".\", \"\"), (\"'\", \"\"), ('\"', \"\"), ('ˈ', \"\")):\n",
    "        wrd1 = wrd1.replace(*r)\n",
    "        wrd2 = wrd2.replace(*r)\n",
    "    \n",
    "    # Remove diacritics from phonemes (centralised, pharyngealized, nasalised, dental, aspirated)\n",
    "    # (not of interest, and the algorithm treats them as separate units, which is problematic)\n",
    "    for d in ((\"_0\", \"\"), (\"_?\", \"\"),(\"~\", \"\"), ('̃',\"\"), (\"_d\",\"\"), ('̪', \"\"), (\"_h\",\"\"), (\"ʰ\", \"\")):\n",
    "        wrd1 = wrd1.replace(*d)\n",
    "        wrd2 = wrd2.replace(*d)\n",
    "    \n",
    "    # identify the phoneme count of the longer word\n",
    "    len1 = len(wrd1)\n",
    "    len2 = len(wrd2)\n",
    "    if len1 >= len2:\n",
    "        length = len1\n",
    "    else:\n",
    "        length = len2 \n",
    "\n",
    "    phnlist1 = list(wrd1) # convert word into list of individual phonemes\n",
    "    phnlist2 = list(wrd2)\n",
    "    \n",
    "  \n",
    "    # convert phoneme list into phoneme CODE list\n",
    "    for i in range(len(phnlist1)):\n",
    "        if phnlist1[i].isdigit():\n",
    "            phnlist1[i] = int(phnlist1[i])\n",
    "        phnlist1[i] = phncodes.loc[phnlist1[i]]['Code']\n",
    "                    \n",
    "    for i in range(len(phnlist2)):\n",
    "        if phnlist2[i].isdigit():\n",
    "            phnlist2[i] = int(phnlist2[i])\n",
    "        phnlist2[i] = phncodes.loc[phnlist2[i]]['Code']\n",
    "       \n",
    "\n",
    "    s = difflib.SequenceMatcher(None, phnlist1, phnlist2)"
   ]
  },
  {
   "cell_type": "code",
   "execution_count": null,
   "metadata": {
    "collapsed": true
   },
   "outputs": [],
   "source": []
  }
 ],
 "metadata": {
  "kernelspec": {
   "display_name": "Python 3",
   "language": "python",
   "name": "python3"
  },
  "language_info": {
   "codemirror_mode": {
    "name": "ipython",
    "version": 3
   },
   "file_extension": ".py",
   "mimetype": "text/x-python",
   "name": "python",
   "nbconvert_exporter": "python",
   "pygments_lexer": "ipython3",
   "version": "3.8.3"
  }
 },
 "nbformat": 4,
 "nbformat_minor": 4
}
